{
 "cells": [
  {
   "cell_type": "markdown",
   "id": "offensive-victim",
   "metadata": {},
   "source": [
    "# Handling raw data from Illumina\n",
    "\n",
    "For the first part we will work with the [10X Genomics 5K Neuron data set](https://support.10xgenomics.com/single-cell-gene-expression/datasets/6.0.0/SC3_v3_NextGem_DI_Neurons_5K_Multiplex?). This dataset includes ~5,000 cells collected from E18 mouse  combined cortex, hippocampus, and subventricular zone (C57BL/6 strain). This was part of the demostration of CellPlex (v3.1 Chemistry), in which data was analyzed using CellRanger 6.0.0. The summary results can be found [here](https://cf.10xgenomics.com/samples/cell-exp/6.0.0/SC3_v3_NextGem_DI_Neurons_5K_SC3_v3_NextGem_DI_Neurons_5K/SC3_v3_NextGem_DI_Neurons_5K_SC3_v3_NextGem_DI_Neurons_5K_web_summary.html)."
   ]
  },
  {
   "cell_type": "markdown",
   "id": "emerging-hughes",
   "metadata": {},
   "source": [
    "## Download\n",
    "\n",
    "*This part of the code is very time consuming, so we will not run it during the workshop.*\n",
    "\n",
    "The most straigth forward way to analyze data generated with Chromium Single Cell Gene Expression technologies is using the [CellRanger software](https://support.10xgenomics.com/single-cell-gene-expression/software/overview/welcome). A very similar pipeline to do this is [STARsolo](https://github.com/alexdobin/STAR/blob/master/docs/STARsolo.md), which is the single-cell extension of the STAR aligner. STARsolo also does the filtering, mapping, demultiplexing and quantification steps internally and outputs a feature counts matrix. Since we're using a reference data set from 10X genomics, we will use CellRanger.\n",
    "\n",
    "To begin the analysis we need two things:\n",
    "\n",
    "1. Reference genome annotation \n",
    "2. *fastq* files from the RNAseq experiment"
   ]
  },
  {
   "cell_type": "markdown",
   "id": "desperate-warehouse",
   "metadata": {},
   "source": [
    "\n",
    "**Reference for mm10**\n",
    "\n",
    ">```bash\n",
    "REF=../references\n",
    "cd ${REF}\n",
    ">wget https://cf.10xgenomics.com/supp/cell-exp/refdata-gex-mm10-2020-A.tar.gz\n",
    "tar -xvzf refdata-gex-mm10-2020-A.tar.gz\n",
    "rm refdata-gex-mm10-2020-A.tar.gz\n",
    ">```\n"
   ]
  },
  {
   "cell_type": "markdown",
   "id": "young-count",
   "metadata": {},
   "source": [
    "**Fastq files**\n",
    "\n",
    ">```bash\n",
    "FASTQ=../fastq/neurons5k\n",
    "cd ${FASTQ}\n",
    ">wget https://cf.10xgenomics.com/samples/cell-exp/6.0.0/SC3_v3_NextGem_DI_Neurons_5K_Multiplex/SC3_v3_NextGem_DI_Neurons_5K_Multiplex_fastqs.tar \n",
    "tar -xvf SC3_v3_NextGem_DI_Neurons_5K_Multiplex_fastqs.tar\n",
    "rm SC3_v3_NextGem_DI_Neurons_5K_Multiplex_fastqs.tar\n",
    ">```"
   ]
  },
  {
   "cell_type": "markdown",
   "id": "irish-polymer",
   "metadata": {},
   "source": [
    "# Counting features\n",
    "\n",
    "We downloaded the *fastq* files directly from the 10X website, so we do not need to run the first step of the pipeline `cellranger mkfastq`. If you are downloading data from [NCBI's SRA](https://www.ncbi.nlm.nih.gov/sra) you can check the [documentation](https://support.10xgenomics.com/single-cell-gene-expression/software/pipelines/latest/using/count) for this step.\n",
    "\n",
    "## Run CellRanger count\n",
    "\n",
    "All we need to do is run `cellranger count` to get our feature counts. If you are runnninng this in a cluster that uses the workload manager Slurm, you can use the following job script changing `REF` to the path containing the reference genome and `FASTQ` to the directory containing your *fastq* files."
   ]
  },
  {
   "cell_type": "markdown",
   "id": "threaded-compression",
   "metadata": {},
   "source": [
    ">```bash\n",
    "#!/usr/bin/bash\n",
    "#SBATCH --cpus-per-task=16\n",
    "#SBATCH --mem=60gb\n",
    "#SBATCH --time=02:00:00\n",
    "#SBATCH --job-name=cellranger\n",
    "#SBATCH --err=logs/err.cranger.%j.log\n",
    "#SBATCH --output=logs/out.cranger.%j.log\n",
    ">\n",
    ">FASTQ=../fastq/neurons5k/SC3_v3_NextGem_DI_Neurons_5K/SC3_v3_NextGem_DI_Neurons_5K_gex/\n",
    ">REF=../references/refdata-gex-mm10-2020-A\n",
    ">OUT=../cellranger/neurons5k\n",
    ">\n",
    ">cellranger count --id=${OUT} \\\n",
    "                 --transcriptome=${REF} \\\n",
    "                 --fastqs=${FASTQ} \\\n",
    "                 --sample=SC3_v3_NextGem_DI_Neurons_5K_gex \\\n",
    "                 --expect-cells=5000 \\\n",
    "                 --localcores=16 \\\n",
    "                 --localmem=60              \n",
    ">```"
   ]
  },
  {
   "cell_type": "markdown",
   "id": "divided-tomato",
   "metadata": {},
   "source": [
    "## Exploring the output\n",
    "\n",
    "We will find the outputs of this step inside `${OUT}/outs` and it will look like this:\n",
    "\n",
    ">```bash\n",
    "analysis\n",
    "filtered_feature_bc_matrix\n",
    "metrics_summary.csv\n",
    "possorted_genome_bam.bam\n",
    "raw_feature_bc_matrix \n",
    "web_summary.html\n",
    "cloupe.cloupe\n",
    "filtered_feature_bc_matrix.h5\n",
    "molecule_info.h5\n",
    "possorted_genome_bam.bam.bai  \n",
    "raw_feature_bc_matrix.h5\n",
    ">```\n",
    "\n",
    "\n"
   ]
  },
  {
   "cell_type": "markdown",
   "id": "empirical-script",
   "metadata": {},
   "source": [
    "### Report\n",
    "\n",
    "A detailed description of the output files can be found in the [documentation](https://support.10xgenomics.com/single-cell-gene-expression/software/pipelines/latest/output/overview#count).   \n",
    "\n",
    "For now, we can look at the [web summary](../output/cellranger/web_summary.html) to see the statistics of the different pre-processing steps as well as some preeliminary analysis."
   ]
  },
  {
   "cell_type": "markdown",
   "id": "intermediate-launch",
   "metadata": {},
   "source": [
    "### Counts \n",
    "\n",
    "For the next activity, we will use the files in `filtered_feature_bc_matrix` as input for our analysis. This folder will have the following files:\n",
    "\n",
    ">```\n",
    "barcodes.tsv.gz\n",
    "features.tsv.gz\n",
    "matrix.mtx.gz\n",
    ">```\n",
    "\n",
    "They contain the cell barcodes (row names), the feature names (column names) and the cell by feature count matrix."
   ]
  },
  {
   "cell_type": "markdown",
   "id": "czech-signal",
   "metadata": {},
   "source": [
    "## Additional QCs\n",
    "\n",
    "The CellRanger pipeline already calculates several quality control metrics for the reads and the alignments, but we will look at a few more. Some of the tools developed for bulk RNA seq are also useful for single-cell RNA seq such as [REseQC](http://rseqc.sourceforge.net).\n",
    "\n",
    "This data was generated with a protocol that uses poly-A oligos to enrich for messenger RNAs, which causes a coverage bias towards the 3' end of genes.\n",
    "\n",
    "The following code calculates the read coverage along different percentiles of gene bodies:"
   ]
  },
  {
   "cell_type": "markdown",
   "id": "fundamental-tissue",
   "metadata": {},
   "source": [
    ">```bash\n",
    "#!/usr/bin/bash\n",
    "># Activate RSeQC environment\n",
    "RSeQCpath=/home/lmoral7/env/RSeQC/bin\n",
    "source ${RSeQCpath}/activate\n",
    "BED=/project/6007998/lmoral7/references/hg38_RefSeq.bed\n",
    "BAM=../cellranger/neurons5k/outs/possorted_genome_bam.bam\n",
    "OUT=../output/rseqc/neurons5K.txt\n",
    "geneBody_coverage.py -i ${BAM} -r ${BED} -o ${OUT}\n",
    ">```\n"
   ]
  }
 ],
 "metadata": {
  "kernelspec": {
   "display_name": "R",
   "language": "R",
   "name": "ir"
  },
  "language_info": {
   "codemirror_mode": "r",
   "file_extension": ".r",
   "mimetype": "text/x-r-source",
   "name": "R",
   "pygments_lexer": "r",
   "version": "4.0.3"
  },
  "toc-autonumbering": true,
  "toc-showcode": true,
  "toc-showmarkdowntxt": false
 },
 "nbformat": 4,
 "nbformat_minor": 5
}
