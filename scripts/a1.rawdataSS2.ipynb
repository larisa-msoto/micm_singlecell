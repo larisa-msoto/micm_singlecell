{
 "cells": [
  {
   "cell_type": "markdown",
   "id": "national-virus",
   "metadata": {},
   "source": [
    "# Handling raw data from Smartseq2"
   ]
  },
  {
   "cell_type": "markdown",
   "id": "common-bracket",
   "metadata": {},
   "source": [
    "## Donwload data from SRA"
   ]
  },
  {
   "cell_type": "raw",
   "id": "excess-building",
   "metadata": {},
   "source": [
    "module load sra-toolkit/2.9.6\n",
    "ln -s ~/projects/rrg-hsn/lmoral7/micm-singlecell/rawdata /home/lmoral7/ncbi/public/sra\n",
    "prefetch SRP173479"
   ]
  },
  {
   "cell_type": "markdown",
   "id": "suited-austin",
   "metadata": {},
   "source": [
    "## Get fastq files"
   ]
  },
  {
   "cell_type": "raw",
   "id": "copyrighted-roads",
   "metadata": {},
   "source": [
    "ACC=SRP173479  \n",
    "OUTDIR=../fastq/${ACC}  \n",
    "SRAFILES=../rawdata  \n",
    "mkdir -p ${OUTDIR}  \n",
    "while read sra  \n",
    "do\n",
    "        acc=$(echo $sra | sed 's/\\.sra//')\n",
    "        fq2=${OUTDIR}/${acc}_2.fastq.gz\n",
    "        echo \"$acc\"\n",
    "        if [ -s \"$fq2\" ]\n",
    "        then\n",
    "                echo \":: Fastq already exists at $fq2\"\n",
    "        else\n",
    "                echo \":: Dumping\"\n",
    "                fastq-dump -O ${OUTDIR} --gzip --split-files -v '$SRAFILES/$acc.sra'\n",
    "        fi\n",
    "done < srafiles.txt"
   ]
  },
  {
   "cell_type": "markdown",
   "id": "dimensional-invite",
   "metadata": {},
   "source": [
    "## Run QCs"
   ]
  },
  {
   "cell_type": "markdown",
   "id": "coordinated-cycle",
   "metadata": {},
   "source": [
    "You can see the HTML output of the following code for one sample's [read 1](../output/fastqc/SRR8319218_1_fastqc.html) and [read 2](../output/fastqc/SRR8319218_2_fastqc.html)"
   ]
  },
  {
   "cell_type": "raw",
   "id": "tough-sigma",
   "metadata": {},
   "source": [
    "#!/usr/bin/bash\n",
    "#SBATCH --account=rrg-hsn\n",
    "#SBATCH --cpus-per-task=10\n",
    "#SBATCH --mem=20gb\n",
    "#SBATCH --time=01:00:00\n",
    "#SBATCH --job-name=qc\n",
    "#SBATCH --array=0-999\n",
    "#SBATCH --err=logs/err.qc.%j.log\n",
    "#SBATCH --output=logs/out.qc.%j.log\n",
    "module load fastqc\n",
    "module load trimmomatic\n",
    "samples=()\n",
    "i=0\n",
    "while read u\n",
    "do\n",
    "        samples[i]=$(echo \"$u\" | sed 's/\\.sra//')\n",
    "        i=$((i+1))\n",
    "done < srafiles.txt\n",
    "SRA=${samples[${SLURM_ARRAY_TASK_ID}]}\n",
    "CORES=10\n",
    "\n",
    "# FASTQC\n",
    "#############################\n",
    "\n",
    "OUTFQC=../output/fastqc/SRP173479\n",
    "FASTQS=../fastq/SRP173479\n",
    "mkdir -p ${OUTFQC}\n",
    "fastqc -o ${OUTFQC} -t ${CORES} ${FASTQS}/${SRA}*gz \n",
    "echo \":: Succesfully finished first fastQC report\""
   ]
  },
  {
   "cell_type": "markdown",
   "id": "alpine-zambia",
   "metadata": {},
   "source": [
    "## Aggregate QCs\n",
    "\n",
    "We can summarize the FastQC results for all the cells into a single [report](../output/multiqc/SRP173479_multiqc_report.html)"
   ]
  },
  {
   "cell_type": "raw",
   "id": "foster-length",
   "metadata": {},
   "source": [
    "multiqc --title SRP173479 --outdir ../output/multiqc --verbose ../output/fastqc"
   ]
  },
  {
   "cell_type": "markdown",
   "id": "hairy-grant",
   "metadata": {},
   "source": [
    "## Trim reads"
   ]
  },
  {
   "cell_type": "raw",
   "id": "patient-sydney",
   "metadata": {},
   "source": [
    "#!/usr/bin/bash\n",
    "#SBATCH --account=rrg-hsn\n",
    "#SBATCH --cpus-per-task=10\n",
    "#SBATCH --mem=20gb\n",
    "#SBATCH --time=01:00:00\n",
    "#SBATCH --job-name=qc\n",
    "#SBATCH --array=0-999\n",
    "#SBATCH --err=logs/err.qc.%j.log\n",
    "#SBATCH --output=logs/out.qc.%j.log\n",
    "\n",
    "module load fastqc\n",
    "module load trimmomatic\n",
    "\n",
    "samples=()\n",
    "i=0\n",
    "while read u\n",
    "do\n",
    "        samples[i]=$(echo \"$u\" | sed 's/\\.sra//')\n",
    "        i=$((i+1))\n",
    "done < srafiles.txt\n",
    "\n",
    "SRA=${samples[${SLURM_ARRAY_TASK_ID}]}\n",
    "CORES=10\n",
    "\n",
    "\n",
    "TRIM_JAR=$EBROOTTRIMMOMATIC/trimmomatic-0.36.jar\n",
    "ADAPT_SEQ=/cvmfs/soft.computecanada.ca/easybuild/software/2017/Core/trimmomatic/0.36/adapters/NexteraPE-PE.fa\n",
    "TRIM_FQ=../fastq/SRP173479.trimmed\n",
    "UNMAP_FQ=../fastq/SRP173479.unmapped\n",
    "\n",
    "\n",
    "mkdir -p ${TRIM_FQ} ${UNMAP_FQ} ${OUT_TRIM_FQC}\n",
    "\n",
    "java -jar ${TRIM_JAR} PE -phred64 \\\n",
    "         \"${FASTQS}/${SRA}_1.fastq.gz\" \"${FASTQS}/${SRA}_2.fastq.gz\" \\\n",
    "         \"${TRIM_FQ}/${SRA}_1.fastq.gz\" \"${UNMAP_FQ}/${SRA}_1.fastq.gz\" \\\n",
    "         \"${TRIM_FQ}/${SRA}_2.fastq.gz\" \"${UNMAP_FQ}/${SRA}_2.fastq.gz\" \\\n",
    "         ILLUMINACLIP:${ADAPT_SEQ}:2:30:10 LEADING:3 TRAILING:3 MINLEN:36\n",
    "\n",
    "echo \":: Successfully finished trimming adapters\""
   ]
  },
  {
   "cell_type": "markdown",
   "id": "sunset-rehabilitation",
   "metadata": {},
   "source": [
    "## Re-run fastqc"
   ]
  },
  {
   "cell_type": "markdown",
   "id": "lucky-tractor",
   "metadata": {},
   "source": [
    "You can see the HTML output of the following code for one sample's [read 1](../output/fastqc/trimmed/SRR8319218_1_fastqc.html) and [read 2](../output/fastqc/trimmed/SRR8319218_2_fastqc.html)"
   ]
  },
  {
   "cell_type": "raw",
   "id": "humanitarian-cigarette",
   "metadata": {},
   "source": [
    "# FASTQC\n",
    "#############################\n",
    "\n",
    "OUTFQC2=../output/fastqc/SRP173479.trimmed\n",
    "\n",
    "mkdir -p ${OUTFQC2}\n",
    "\n",
    "fastqc -o ${OUTFQC2} -t ${CORES} ${TRIM_FQ}/${SRA}*gz \n",
    "echo \":: Succesfully finished seconnd fastQC report\""
   ]
  },
  {
   "cell_type": "markdown",
   "id": "chubby-cancellation",
   "metadata": {},
   "source": [
    "## Align reads\n",
    "\n",
    "Because we have one `fastq`file per cell, we can treat this as different bulk samples and use the STAR aligner"
   ]
  },
  {
   "cell_type": "raw",
   "id": "ahead-feedback",
   "metadata": {},
   "source": [
    "#!/usr/bin/bash\n",
    "#SBATCH --account=rrg-hsn\n",
    "#SBATCH --cpus-per-task=12\n",
    "#SBATCH --mem=40gb\n",
    "#SBATCH --time=01:00:00\n",
    "#SBATCH --job-name=star_999\n",
    "#SBATCH --array=1000-1800\n",
    "#SBATCH --err=logs/err.star_999.%j.log\n",
    "#SBATCH --output=logs/out.star_999.%j.log\n",
    "\n",
    "module load StdEnv/2020 gcc/9.3.0 star samtools\n",
    "\n",
    "# Build array of samples\n",
    "\n",
    "samples=()\n",
    "i=0\n",
    "while read u\n",
    "do\n",
    "        samples[i]=$(echo \"$u\" | sed 's/\\.sra//')\n",
    "        i=$((i+1))\n",
    "done < srafiles.txt\n",
    "\n",
    "SRA=${samples[${SLURM_ARRAY_TASK_ID}]}\n",
    "NCORES=12\n",
    "GENOME=/home/lmoral7/projects/rrg-hsn/lmoral7/references/gencode_GRCh38.p13/STAR_genomeIndex\n",
    "OUTDIR=../bams/SRP173479/${SRA}/\n",
    "FASTQ=../fastq/SRP173479.trimmed/${SRA}\n",
    "\n",
    "STAR --readFilesIn ${FASTQ}_1.fastq.gz ${FASTQ}_2.fastq.gz \\\n",
    "  --runThreadN  ${NCORES} \\\n",
    "  --genomeDir ${GENOME} \\\n",
    "  --outFileNamePrefix ${OUTDIR} \\\n",
    "  --outBAMsortingThreadN ${NCORES} \\\n",
    "  --readFilesCommand gunzip -c \\\n",
    "  --outSAMtype BAM SortedByCoordinate \\\n",
    "  --outSAMattributes Standard \\\n",
    "  --limitBAMsortRAM 40000000000 \\\n",
    "  --outBAMsortingBinsN 50"
   ]
  }
 ],
 "metadata": {
  "kernelspec": {
   "display_name": "Python 3",
   "language": "python",
   "name": "python3"
  },
  "language_info": {
   "codemirror_mode": {
    "name": "ipython",
    "version": 3
   },
   "file_extension": ".py",
   "mimetype": "text/x-python",
   "name": "python",
   "nbconvert_exporter": "python",
   "pygments_lexer": "ipython3",
   "version": "3.7.10"
  }
 },
 "nbformat": 4,
 "nbformat_minor": 5
}
