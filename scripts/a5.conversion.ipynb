{
 "cells": [
  {
   "cell_type": "markdown",
   "id": "e80d5be0",
   "metadata": {},
   "source": [
    "# AnnData objects between python and R"
   ]
  },
  {
   "cell_type": "code",
   "execution_count": 6,
   "id": "3dd09f9e",
   "metadata": {},
   "outputs": [],
   "source": [
    "import scanpy as sc\n",
    "import numpy as np\n",
    "import os\n",
    "import pickle\n",
    "from re import sub\n",
    "import anndata2ri"
   ]
  },
  {
   "cell_type": "code",
   "execution_count": 2,
   "id": "b67b49b0",
   "metadata": {},
   "outputs": [],
   "source": [
    "def load_object(file):\n",
    "    with open(file, 'rb') as inF:\n",
    "        obj = pickle.load(inF)\n",
    "        return(obj)\n",
    "    \n",
    "def absolute_paths(directory):\n",
    "    for dirpath,_,filenames in os.walk(directory):\n",
    "        for f in filenames:\n",
    "            yield os.path.abspath(os.path.join(dirpath, f))"
   ]
  },
  {
   "cell_type": "markdown",
   "id": "4dbf197b",
   "metadata": {},
   "source": [
    "### Write AnnData to loom in python"
   ]
  },
  {
   "cell_type": "code",
   "execution_count": 23,
   "id": "a7117309",
   "metadata": {},
   "outputs": [],
   "source": [
    "adata_dir = \"/Users/larisamorales/OneDrive - McGill University/scvelo/adata\"\n",
    "for obj in absolute_paths(adata_dir):\n",
    "    adata = load_object(obj)\n",
    "    \n",
    "    for k in adata.layers.keys():\n",
    "        np.nan_to_num(adata.layers[k],copy=False)\n",
    "    \n",
    "    adata.write_loom(sub(\"pkl\",\"loom\",obj),write_obsm_varm=True)"
   ]
  },
  {
   "cell_type": "markdown",
   "id": "20e4bc57",
   "metadata": {},
   "source": [
    "### Load loom in R"
   ]
  },
  {
   "cell_type": "code",
   "execution_count": 34,
   "id": "9da3b3d8",
   "metadata": {},
   "outputs": [
    {
     "name": "stdout",
     "output_type": "stream",
     "text": [
      "Class: loom\n",
      "Filename: /Users/larisamorales/OneDrive - McGill University/scvelo/adata/hFB18-adata.loom\n",
      "Access type: H5F_ACC_RDWR\n",
      "Attributes: last_modified, version\n",
      "Listing:\n",
      "       name    obj_type dataset.dims dataset.type_class\n",
      "      attrs   H5I_GROUP         <NA>               <NA>\n",
      "  col_attrs   H5I_GROUP         <NA>               <NA>\n",
      " col_graphs   H5I_GROUP         <NA>               <NA>\n",
      "     layers   H5I_GROUP         <NA>               <NA>\n",
      "     matrix H5I_DATASET  1720 x 2000          H5T_FLOAT\n",
      "  row_attrs   H5I_GROUP         <NA>               <NA>\n",
      " row_graphs   H5I_GROUP         <NA>               <NA>\n"
     ]
    }
   ],
   "source": [
    "%%R \n",
    "\n",
    "# Installations \n",
    "\n",
    "#devtools::install_github(repo = \"hhoeflin/hdf5r\")\n",
    "#devtools::install_github(repo = \"mojaveazure/loomR\", ref = \"develop\")\n",
    "\n",
    "# Load packages \n",
    "\n",
    "library(loomR)\n",
    "\n",
    "# Read looms\n",
    "\n",
    "loom_dir <- \"/Users/larisamorales/OneDrive - McGill University/scvelo/adata\"\n",
    "looms <- list.files(loom_dir,pattern = 'loom',full.names = T)\n",
    "lfile <- connect(filename = looms[1], mode = \"r+\",skip.validate = T)\n",
    "lfile"
   ]
  },
  {
   "cell_type": "code",
   "execution_count": 36,
   "id": "03394ae9",
   "metadata": {},
   "outputs": [],
   "source": [
    "%%R \n",
    "lfile$close_all()"
   ]
  }
 ],
 "metadata": {
  "kernelspec": {
   "display_name": "Python 3",
   "language": "python",
   "name": "python3"
  },
  "language_info": {
   "codemirror_mode": {
    "name": "ipython",
    "version": 3
   },
   "file_extension": ".py",
   "mimetype": "text/x-python",
   "name": "python",
   "nbconvert_exporter": "python",
   "pygments_lexer": "ipython3",
   "version": "3.7.10"
  }
 },
 "nbformat": 4,
 "nbformat_minor": 5
}
