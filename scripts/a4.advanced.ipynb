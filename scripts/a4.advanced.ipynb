{
 "cells": [
  {
   "cell_type": "markdown",
   "id": "sustained-cosmetic",
   "metadata": {},
   "source": [
    "# Getting the count matrix for RNA velocity"
   ]
  },
  {
   "cell_type": "markdown",
   "id": "incorrect-exhibit",
   "metadata": {},
   "source": [
    "## Build reference genome for alevin"
   ]
  },
  {
   "cell_type": "markdown",
   "id": "worthy-tunisia",
   "metadata": {},
   "source": [
    "**Download the reference genome files**\n",
    ">```bash\n",
    "wget ftp://ftp.ebi.ac.uk/pub/databases/gencode/Gencode_mouse/release_M24/gencode.vM24.annotation.gtf.gz\n",
    "wget ftp://ftp.ebi.ac.uk/pub/databases/gencode/Gencode_mouse/release_M24/GRCm38.primary_assembly.genome.fa.gz\n",
    "gunzip GRCm38.primary_assembly.genome.fa.gz\n",
    ">````\n",
    "\n",
    "**Get intronic and intronic annotations**\n",
    "\n",
    ">```bash\n",
    "REFPATH=../data/references/gencode_GRCm38.vM24\n",
    "Rscript ./build-alevin-ref.R ${REFPATH} generate \n",
    ">```\n",
    "\n",
    "**Get file with chromosome names**\n",
    ">```bash\n",
    "grep \">\" ${REFPATH}/GRCm38.primary_assembly.genome.fa | cut -d \">\" -f 2 | cut -d \" \" -f 1 > ${REFPATH}/GRCm38.primary_assembly.genome.chrnames.txt\n",
    ">````\n",
    "\n",
    "**Build Salmon index**\n",
    "\n",
    ">```bash\n",
    "salmon index \\\n",
    "    -t <(cat {REFPATH}/gencode.vM24.annotation.expanded.fa ${REFPATH}/GRCm38.primary_assembly.genome.fa) \\\n",
    "    -i ${REFPATH}/gencode.vM24.annotation.expanded.sidx \\\n",
    "    --gencode \\\n",
    "    -p 32 \\\n",
    "    -d {REFPATH}/GRCm38.primary_assembly.genome.chrnames.txt\n",
    ">```\n",
    "\n",
    "**Create genome annotation file with tximeta**\n",
    "\n",
    ">```bash\n",
    "Rscript ./build-alevin-ref.R ${REFPATH} link\n",
    ">```\n",
    "\n"
   ]
  },
  {
   "cell_type": "markdown",
   "id": "handmade-pointer",
   "metadata": {},
   "source": [
    "## Count spliced and unspliced reads with alevin\n",
    "\n",
    ">```bash\n",
    "#!/usr/bin/bash\n",
    "#SBATCH --account=rrg-hsn\n",
    "#SBATCH --cpus-per-task=10\n",
    "#SBATCH --mem=200gb\n",
    "#SBATCH --time=20:00:00\n",
    "#SBATCH --job-name=alevin\n",
    "#SBATCH --err=logs/err.alevin.%j.log\n",
    "#SBATCH --output=logs/out.alevin.%j.log\n",
    ">FASTQTAG=/home/lmoral7/projects/rrg-hsn/lmoral7/micm-singlecell/fastq/neurons5k/SC3_v3_NextGem_DI_Neurons_5K_gex_S3_L00\n",
    ">salmon alevin \\\n",
    "\t\t-l A \\\n",
    "\t\t-i ${REFPATH}/gencode.vM24.annotation.expanded.sidx \\\n",
    "\t\t-1 ${FASTQTAG}1_R1_001.fastq.gz {FASTQTAG}2_R1_001.fastq.gz \\\n",
    "\t\t-2 ${FASTQTAG}1_R2_001.fastq.gz ${FASTQTAG}2_R2_001.fastq.gz \\\n",
    "\t\t-o ../output/alevin \\\n",
    "\t\t-p 10 \\\n",
    "\t\t--tgMap ${REFPATH}/gencode.vM24.annotation.expanded.tx2gene.tsv \\\n",
    "\t\t--chromiumV3 \\\n",
    "\t\t--dumpFeatures \n",
    ">```"
   ]
  },
  {
   "cell_type": "markdown",
   "id": "tired-adams",
   "metadata": {},
   "source": [
    "## RNA velocity"
   ]
  },
  {
   "cell_type": "code",
   "execution_count": 14,
   "id": "designing-requirement",
   "metadata": {},
   "outputs": [],
   "source": [
    "import scvelo as scv\n",
    "import loompy as lp\n",
    "import pandas as pd\n",
    "import numpy as np\n",
    "import umap\n",
    "import scanpy\n",
    "from matplotlib import pyplot as plt\n",
    "import pickle\n",
    "from matplotlib import colors"
   ]
  },
  {
   "cell_type": "code",
   "execution_count": 15,
   "id": "informational-government",
   "metadata": {},
   "outputs": [
    {
     "name": "stdout",
     "output_type": "stream",
     "text": [
      "Running scvelo 0.2.3 (python 3.8.8) on 2021-03-28 22:23.\n"
     ]
    }
   ],
   "source": [
    "scv.logging.print_version()\n",
    "scv.settings.verbosity = 0  # show errors(0), warnings(1), info(2), hints(3)\n",
    "scv.settings.set_figure_params('scvelo')  # for beautified visualization"
   ]
  },
  {
   "cell_type": "markdown",
   "id": "appointed-relevance",
   "metadata": {},
   "source": [
    "## Preprocessing"
   ]
  },
  {
   "cell_type": "code",
   "execution_count": 16,
   "id": "monetary-atlanta",
   "metadata": {},
   "outputs": [
    {
     "name": "stderr",
     "output_type": "stream",
     "text": [
      "Variable names are not unique. To make them unique, call `.var_names_make_unique`.\n",
      "... storing 'Chromosome' as categorical\n",
      "... storing 'Strand' as categorical\n"
     ]
    }
   ],
   "source": [
    "adata = scv.read(\"../data/loom/a4.hgForebrainGlut.loom\", cache=True)"
   ]
  },
  {
   "cell_type": "code",
   "execution_count": 18,
   "id": "acceptable-summary",
   "metadata": {},
   "outputs": [
    {
     "data": {
      "image/png": "[encoded data removed]",
      "text/plain": [
       "<Figure size 1000x200 with 1 Axes>"
      ]
     },
     "metadata": {
      "image/png": {
       "height": 197,
       "width": 172
      }
     },
     "output_type": "display_data"
    }
   ],
   "source": [
    "scv.pl.proportions(adata)"
   ]
  },
  {
   "cell_type": "code",
   "execution_count": 19,
   "id": "dynamic-defeat",
   "metadata": {
    "collapsed": true,
    "jupyter": {
     "outputs_hidden": true
    },
    "tags": []
   },
   "outputs": [
    {
     "name": "stderr",
     "output_type": "stream",
     "text": [
      "Variable names are not unique. To make them unique, call `.var_names_make_unique`.\n",
      "Variable names are not unique. To make them unique, call `.var_names_make_unique`.\n",
      "Variable names are not unique. To make them unique, call `.var_names_make_unique`.\n",
      "Variable names are not unique. To make them unique, call `.var_names_make_unique`.\n"
     ]
    }
   ],
   "source": [
    "scv.pp.filter_and_normalize(adata,min_shared_counts=3,min_shared_cells=100)\n",
    "scv.pp.neighbors(adata, n_pcs=30, n_neighbors=30)\n",
    "scv.pp.moments(adata, n_pcs=30, n_neighbors=30)"
   ]
  },
  {
   "cell_type": "markdown",
   "id": "considerable-jackson",
   "metadata": {},
   "source": [
    "## Clustering"
   ]
  },
  {
   "cell_type": "code",
   "execution_count": 21,
   "id": "adjustable-verse",
   "metadata": {
    "collapsed": true,
    "jupyter": {
     "outputs_hidden": true
    },
    "tags": []
   },
   "outputs": [
    {
     "ename": "ImportError",
     "evalue": "Please install the leiden algorithm: `conda install -c conda-forge leidenalg` or `pip3 install leidenalg`.",
     "output_type": "error",
     "traceback": [
      "\u001b[0;31m---------------------------------------------------------------------------\u001b[0m",
      "\u001b[0;31mModuleNotFoundError\u001b[0m                       Traceback (most recent call last)",
      "\u001b[0;32m/opt/conda/lib/python3.8/site-packages/scanpy/tools/_leiden.py\u001b[0m in \u001b[0;36mleiden\u001b[0;34m(adata, resolution, restrict_to, random_state, key_added, adjacency, directed, use_weights, n_iterations, partition_type, neighbors_key, obsp, copy, **partition_kwargs)\u001b[0m\n\u001b[1;32m    107\u001b[0m     \u001b[0;32mtry\u001b[0m\u001b[0;34m:\u001b[0m\u001b[0;34m\u001b[0m\u001b[0;34m\u001b[0m\u001b[0m\n\u001b[0;32m--> 108\u001b[0;31m         \u001b[0;32mimport\u001b[0m \u001b[0mleidenalg\u001b[0m\u001b[0;34m\u001b[0m\u001b[0;34m\u001b[0m\u001b[0m\n\u001b[0m\u001b[1;32m    109\u001b[0m     \u001b[0;32mexcept\u001b[0m \u001b[0mImportError\u001b[0m\u001b[0;34m:\u001b[0m\u001b[0;34m\u001b[0m\u001b[0;34m\u001b[0m\u001b[0m\n",
      "\u001b[0;31mModuleNotFoundError\u001b[0m: No module named 'leidenalg'",
      "\nDuring handling of the above exception, another exception occurred:\n",
      "\u001b[0;31mImportError\u001b[0m                               Traceback (most recent call last)",
      "\u001b[0;32m<ipython-input-21-03a3892d0024>\u001b[0m in \u001b[0;36m<module>\u001b[0;34m\u001b[0m\n\u001b[0;32m----> 1\u001b[0;31m \u001b[0mscanpy\u001b[0m\u001b[0;34m.\u001b[0m\u001b[0mtl\u001b[0m\u001b[0;34m.\u001b[0m\u001b[0mleiden\u001b[0m\u001b[0;34m(\u001b[0m\u001b[0madata\u001b[0m\u001b[0;34m,\u001b[0m\u001b[0;36m0.6\u001b[0m\u001b[0;34m)\u001b[0m\u001b[0;34m\u001b[0m\u001b[0;34m\u001b[0m\u001b[0m\n\u001b[0m",
      "\u001b[0;32m/opt/conda/lib/python3.8/site-packages/scanpy/tools/_leiden.py\u001b[0m in \u001b[0;36mleiden\u001b[0;34m(adata, resolution, restrict_to, random_state, key_added, adjacency, directed, use_weights, n_iterations, partition_type, neighbors_key, obsp, copy, **partition_kwargs)\u001b[0m\n\u001b[1;32m    108\u001b[0m         \u001b[0;32mimport\u001b[0m \u001b[0mleidenalg\u001b[0m\u001b[0;34m\u001b[0m\u001b[0;34m\u001b[0m\u001b[0m\n\u001b[1;32m    109\u001b[0m     \u001b[0;32mexcept\u001b[0m \u001b[0mImportError\u001b[0m\u001b[0;34m:\u001b[0m\u001b[0;34m\u001b[0m\u001b[0;34m\u001b[0m\u001b[0m\n\u001b[0;32m--> 110\u001b[0;31m         raise ImportError(\n\u001b[0m\u001b[1;32m    111\u001b[0m             \u001b[0;34m'Please install the leiden algorithm: `conda install -c conda-forge leidenalg` or `pip3 install leidenalg`.'\u001b[0m\u001b[0;34m\u001b[0m\u001b[0;34m\u001b[0m\u001b[0m\n\u001b[1;32m    112\u001b[0m         )\n",
      "\u001b[0;31mImportError\u001b[0m: Please install the leiden algorithm: `conda install -c conda-forge leidenalg` or `pip3 install leidenalg`."
     ]
    }
   ],
   "source": [
    "scanpy.tl.leiden(adata,0.6)"
   ]
  },
  {
   "cell_type": "markdown",
   "id": "equipped-engineer",
   "metadata": {},
   "source": [
    "## Estimations"
   ]
  },
  {
   "cell_type": "code",
   "execution_count": null,
   "id": "gothic-december",
   "metadata": {},
   "outputs": [],
   "source": [
    "scv.tl.recover_dynamics(adata)\n",
    "scv.tl.velocity(adata, mode='dynamical')\n",
    "scv.tl.recover_latent_time(adata)\n",
    "scv.tl.velocity_confidence(adata)\n",
    "scv.tl.terminal_states(adata)\n",
    "scv.tl.rank_velocity_genes(adata, groupby='leiden',n_genes=500)"
   ]
  },
  {
   "cell_type": "markdown",
   "id": "oriented-trade",
   "metadata": {},
   "source": [
    "## Visualizations"
   ]
  },
  {
   "cell_type": "markdown",
   "id": "ordered-norwegian",
   "metadata": {},
   "source": [
    "### Velocity embeddings"
   ]
  },
  {
   "cell_type": "code",
   "execution_count": 17,
   "id": "martial-divide",
   "metadata": {
    "collapsed": true,
    "jupyter": {
     "outputs_hidden": true
    },
    "tags": []
   },
   "outputs": [
    {
     "ename": "KeyError",
     "evalue": "'X_umap'",
     "output_type": "error",
     "traceback": [
      "\u001b[0;31m---------------------------------------------------------------------------\u001b[0m",
      "\u001b[0;31mKeyError\u001b[0m                                  Traceback (most recent call last)",
      "\u001b[0;32m<ipython-input-17-516b1f054f34>\u001b[0m in \u001b[0;36m<module>\u001b[0;34m\u001b[0m\n\u001b[0;32m----> 1\u001b[0;31m \u001b[0mscv\u001b[0m\u001b[0;34m.\u001b[0m\u001b[0mpl\u001b[0m\u001b[0;34m.\u001b[0m\u001b[0mvelocity_embedding_stream\u001b[0m\u001b[0;34m(\u001b[0m\u001b[0madata\u001b[0m\u001b[0;34m,\u001b[0m \u001b[0mbasis\u001b[0m\u001b[0;34m=\u001b[0m\u001b[0;34m'umap'\u001b[0m\u001b[0;34m,\u001b[0m\u001b[0mcolor\u001b[0m\u001b[0;34m=\u001b[0m\u001b[0;34m'labels'\u001b[0m\u001b[0;34m,\u001b[0m\u001b[0mlegend_loc\u001b[0m\u001b[0;34m=\u001b[0m\u001b[0;34m'right'\u001b[0m\u001b[0;34m)\u001b[0m\u001b[0;34m\u001b[0m\u001b[0;34m\u001b[0m\u001b[0m\n\u001b[0m",
      "\u001b[0;32m/opt/conda/lib/python3.8/site-packages/scvelo/plotting/velocity_embedding_stream.py\u001b[0m in \u001b[0;36mvelocity_embedding_stream\u001b[0;34m(adata, basis, vkey, density, smooth, min_mass, cutoff_perc, arrow_color, linewidth, n_neighbors, recompute, color, use_raw, layer, color_map, colorbar, palette, size, alpha, perc, X, V, X_grid, V_grid, sort_order, groups, components, legend_loc, legend_fontsize, legend_fontweight, xlabel, ylabel, title, fontsize, figsize, dpi, frameon, show, save, ax, ncols, **kwargs)\u001b[0m\n\u001b[1;32m    109\u001b[0m         )\n\u001b[1;32m    110\u001b[0m         \u001b[0mcomps\u001b[0m\u001b[0;34m,\u001b[0m \u001b[0mobsm\u001b[0m \u001b[0;34m=\u001b[0m \u001b[0mget_components\u001b[0m\u001b[0;34m(\u001b[0m\u001b[0mcomponents\u001b[0m\u001b[0;34m,\u001b[0m \u001b[0mbasis\u001b[0m\u001b[0;34m)\u001b[0m\u001b[0;34m,\u001b[0m \u001b[0m_adata\u001b[0m\u001b[0;34m.\u001b[0m\u001b[0mobsm\u001b[0m\u001b[0;34m\u001b[0m\u001b[0;34m\u001b[0m\u001b[0m\n\u001b[0;32m--> 111\u001b[0;31m         \u001b[0mX_emb\u001b[0m \u001b[0;34m=\u001b[0m \u001b[0mnp\u001b[0m\u001b[0;34m.\u001b[0m\u001b[0marray\u001b[0m\u001b[0;34m(\u001b[0m\u001b[0mobsm\u001b[0m\u001b[0;34m[\u001b[0m\u001b[0;34mf\"X_{basis}\"\u001b[0m\u001b[0;34m]\u001b[0m\u001b[0;34m[\u001b[0m\u001b[0;34m:\u001b[0m\u001b[0;34m,\u001b[0m \u001b[0mcomps\u001b[0m\u001b[0;34m]\u001b[0m\u001b[0;34m)\u001b[0m \u001b[0;32mif\u001b[0m \u001b[0mX\u001b[0m \u001b[0;32mis\u001b[0m \u001b[0;32mNone\u001b[0m \u001b[0;32melse\u001b[0m \u001b[0mX\u001b[0m\u001b[0;34m[\u001b[0m\u001b[0;34m:\u001b[0m\u001b[0;34m,\u001b[0m \u001b[0;34m:\u001b[0m\u001b[0;36m2\u001b[0m\u001b[0;34m]\u001b[0m\u001b[0;34m\u001b[0m\u001b[0;34m\u001b[0m\u001b[0m\n\u001b[0m\u001b[1;32m    112\u001b[0m         \u001b[0mV_emb\u001b[0m \u001b[0;34m=\u001b[0m \u001b[0mnp\u001b[0m\u001b[0;34m.\u001b[0m\u001b[0marray\u001b[0m\u001b[0;34m(\u001b[0m\u001b[0mobsm\u001b[0m\u001b[0;34m[\u001b[0m\u001b[0;34mf\"{vkey}_{basis}\"\u001b[0m\u001b[0;34m]\u001b[0m\u001b[0;34m[\u001b[0m\u001b[0;34m:\u001b[0m\u001b[0;34m,\u001b[0m \u001b[0mcomps\u001b[0m\u001b[0;34m]\u001b[0m\u001b[0;34m)\u001b[0m \u001b[0;32mif\u001b[0m \u001b[0mV\u001b[0m \u001b[0;32mis\u001b[0m \u001b[0;32mNone\u001b[0m \u001b[0;32melse\u001b[0m \u001b[0mV\u001b[0m\u001b[0;34m[\u001b[0m\u001b[0;34m:\u001b[0m\u001b[0;34m,\u001b[0m \u001b[0;34m:\u001b[0m\u001b[0;36m2\u001b[0m\u001b[0;34m]\u001b[0m\u001b[0;34m\u001b[0m\u001b[0;34m\u001b[0m\u001b[0m\n\u001b[1;32m    113\u001b[0m         X_grid, V_grid = compute_velocity_on_grid(\n",
      "\u001b[0;32m/opt/conda/lib/python3.8/site-packages/anndata/_core/aligned_mapping.py\u001b[0m in \u001b[0;36m__getitem__\u001b[0;34m(self, key)\u001b[0m\n\u001b[1;32m    146\u001b[0m \u001b[0;34m\u001b[0m\u001b[0m\n\u001b[1;32m    147\u001b[0m     \u001b[0;32mdef\u001b[0m \u001b[0m__getitem__\u001b[0m\u001b[0;34m(\u001b[0m\u001b[0mself\u001b[0m\u001b[0;34m,\u001b[0m \u001b[0mkey\u001b[0m\u001b[0;34m:\u001b[0m \u001b[0mstr\u001b[0m\u001b[0;34m)\u001b[0m \u001b[0;34m->\u001b[0m \u001b[0mV\u001b[0m\u001b[0;34m:\u001b[0m\u001b[0;34m\u001b[0m\u001b[0;34m\u001b[0m\u001b[0m\n\u001b[0;32m--> 148\u001b[0;31m         \u001b[0;32mreturn\u001b[0m \u001b[0mself\u001b[0m\u001b[0;34m.\u001b[0m\u001b[0m_data\u001b[0m\u001b[0;34m[\u001b[0m\u001b[0mkey\u001b[0m\u001b[0;34m]\u001b[0m\u001b[0;34m\u001b[0m\u001b[0;34m\u001b[0m\u001b[0m\n\u001b[0m\u001b[1;32m    149\u001b[0m \u001b[0;34m\u001b[0m\u001b[0m\n\u001b[1;32m    150\u001b[0m     \u001b[0;32mdef\u001b[0m \u001b[0m__setitem__\u001b[0m\u001b[0;34m(\u001b[0m\u001b[0mself\u001b[0m\u001b[0;34m,\u001b[0m \u001b[0mkey\u001b[0m\u001b[0;34m:\u001b[0m \u001b[0mstr\u001b[0m\u001b[0;34m,\u001b[0m \u001b[0mvalue\u001b[0m\u001b[0;34m:\u001b[0m \u001b[0mV\u001b[0m\u001b[0;34m)\u001b[0m\u001b[0;34m:\u001b[0m\u001b[0;34m\u001b[0m\u001b[0;34m\u001b[0m\u001b[0m\n",
      "\u001b[0;31mKeyError\u001b[0m: 'X_umap'"
     ]
    }
   ],
   "source": [
    "scv.pl.velocity_embedding_stream(adata, basis='umap',color='leiden',legend_loc='right')"
   ]
  },
  {
   "cell_type": "code",
   "execution_count": null,
   "id": "strange-bangladesh",
   "metadata": {},
   "outputs": [],
   "source": [
    "scv.pl.velocity_embedding(adata, arrow_length=3, arrow_size=2, dpi=120,color='leiden',legend_loc='right')"
   ]
  },
  {
   "cell_type": "markdown",
   "id": "desperate-humanity",
   "metadata": {},
   "source": [
    "### Velocity confidence"
   ]
  },
  {
   "cell_type": "code",
   "execution_count": null,
   "id": "commercial-wealth",
   "metadata": {},
   "outputs": [],
   "source": [
    "scv.tl.velocity_confidence(adata)\n",
    "tags = 'velocity_length', 'velocity_confidence'\n",
    "scv.pl.scatter(adata, c=tags, cmap='coolwarm', perc=[2, 98])"
   ]
  },
  {
   "cell_type": "code",
   "execution_count": null,
   "id": "stable-capability",
   "metadata": {},
   "outputs": [],
   "source": []
  },
  {
   "cell_type": "markdown",
   "id": "advanced-navigator",
   "metadata": {},
   "source": [
    "# References\n",
    "1. https://combine-lab.github.io/alevin-tutorial/2020/alevin-velocity/\n",
    "2. https://salmon.readthedocs.io/en/latest/alevin.html\n",
    "3. https://umi-tools.readthedocs.io/en/latest/Single_cell_tutorial.html"
   ]
  }
 ],
 "metadata": {
  "kernelspec": {
   "display_name": "Python 3",
   "language": "python",
   "name": "python3"
  },
  "language_info": {
   "codemirror_mode": {
    "name": "ipython",
    "version": 3
   },
   "file_extension": ".py",
   "mimetype": "text/x-python",
   "name": "python",
   "nbconvert_exporter": "python",
   "pygments_lexer": "ipython3",
   "version": "3.8.8"
  }
 },
 "nbformat": 4,
 "nbformat_minor": 5
}
