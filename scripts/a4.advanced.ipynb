{
 "cells": [
  {
   "cell_type": "markdown",
   "id": "lesser-expense",
   "metadata": {},
   "source": [
    "# RNA velocity\n",
    "\n",
    "Instructions on how to generate the `.loom` files can be found in the documentation of [velocyto](http://velocyto.org/). Another option to do this is using [alevin](https://combine-lab.github.io/alevin-tutorial/2020/alevin-velocity/). We will analyze the data of Glutamaergic differentiation from the original publication of [RNA velocity](https://www.nature.com/articles/s41586-018-0414-6)."
   ]
  },
  {
   "cell_type": "markdown",
   "id": "crude-commerce",
   "metadata": {},
   "source": [
    "## Settings"
   ]
  },
  {
   "cell_type": "code",
   "execution_count": null,
   "id": "acknowledged-contamination",
   "metadata": {},
   "outputs": [],
   "source": [
    "import scvelo as scv\n",
    "import loompy as lp\n",
    "import pandas as pd\n",
    "import numpy as np\n",
    "import umap\n",
    "import scanpy\n",
    "from matplotlib import pyplot as plt\n",
    "import pickle\n",
    "from matplotlib import colors"
   ]
  },
  {
   "cell_type": "code",
   "execution_count": null,
   "id": "identified-burns",
   "metadata": {},
   "outputs": [],
   "source": [
    "scv.logging.print_version()\n",
    "scv.settings.verbosity = 0  # show errors(0), warnings(1), info(2), hints(3)\n",
    "scv.settings.set_figure_params('scvelo')  # for beautified visualization"
   ]
  },
  {
   "cell_type": "markdown",
   "id": "varying-physiology",
   "metadata": {},
   "source": [
    "## Preprocessing"
   ]
  },
  {
   "cell_type": "code",
   "execution_count": null,
   "id": "taken-carroll",
   "metadata": {},
   "outputs": [],
   "source": [
    "adata = scv.read(\"../data/loom/a4.hgForebrainGlut.loom\", cache=True)\n",
    "adata.var_names_make_unique()"
   ]
  },
  {
   "cell_type": "code",
   "execution_count": null,
   "id": "hourly-carrier",
   "metadata": {},
   "outputs": [],
   "source": [
    "scv.pl.proportions(adata)"
   ]
  },
  {
   "cell_type": "code",
   "execution_count": null,
   "id": "contrary-concentrate",
   "metadata": {
    "tags": []
   },
   "outputs": [],
   "source": [
    "scv.pp.filter_and_normalize(adata,min_shared_counts=10,min_shared_cells=50,n_top_genes=2000)\n",
    "scv.pp.neighbors(adata, n_pcs=20, n_neighbors=200)\n",
    "scv.pp.moments(adata, n_pcs=20, n_neighbors=200)"
   ]
  },
  {
   "cell_type": "markdown",
   "id": "velvet-kelly",
   "metadata": {},
   "source": [
    "## Dimensionality reduction and embbedding"
   ]
  },
  {
   "cell_type": "code",
   "execution_count": null,
   "id": "internal-cement",
   "metadata": {
    "tags": []
   },
   "outputs": [],
   "source": [
    "scanpy.tl.leiden(adata,0.5)\n",
    "scv.tl.umap(adata)"
   ]
  },
  {
   "cell_type": "markdown",
   "id": "hybrid-comedy",
   "metadata": {},
   "source": [
    "## Estimations"
   ]
  },
  {
   "cell_type": "markdown",
   "id": "casual-architect",
   "metadata": {},
   "source": [
    "### RNA velocity"
   ]
  },
  {
   "cell_type": "code",
   "execution_count": null,
   "id": "resistant-leone",
   "metadata": {},
   "outputs": [],
   "source": [
    "scv.tl.recover_dynamics(adata,n_top_genes=2000)\n",
    "scv.tl.velocity(adata, mode='dynamical')"
   ]
  },
  {
   "cell_type": "markdown",
   "id": "difficult-female",
   "metadata": {},
   "source": [
    "### Latent time"
   ]
  },
  {
   "cell_type": "code",
   "execution_count": null,
   "id": "appropriate-above",
   "metadata": {},
   "outputs": [],
   "source": [
    "scv.tl.recover_latent_time(adata)\n",
    "scv.tl.terminal_states(adata)"
   ]
  },
  {
   "cell_type": "markdown",
   "id": "sustained-heart",
   "metadata": {},
   "source": [
    "### Downstream analysis"
   ]
  },
  {
   "cell_type": "code",
   "execution_count": null,
   "id": "loving-crystal",
   "metadata": {},
   "outputs": [],
   "source": [
    "scv.tl.velocity_confidence(adata)\n",
    "scv.tl.score_genes_cell_cycle(adata)\n",
    "scv.tl.rank_velocity_genes(adata, groupby='leiden',n_genes=500)"
   ]
  },
  {
   "cell_type": "markdown",
   "id": "hydraulic-guyana",
   "metadata": {},
   "source": [
    "## Visualizations"
   ]
  },
  {
   "cell_type": "markdown",
   "id": "spare-lloyd",
   "metadata": {},
   "source": [
    "**Velocity embeddings**"
   ]
  },
  {
   "cell_type": "code",
   "execution_count": null,
   "id": "fitted-assumption",
   "metadata": {
    "tags": []
   },
   "outputs": [],
   "source": [
    "scv.pl.velocity_embedding_stream(adata, basis='umap',color='leiden',legend_loc='right',n_neighbors=200,recompute=True,alpha=0.2)"
   ]
  },
  {
   "cell_type": "code",
   "execution_count": null,
   "id": "generous-hayes",
   "metadata": {},
   "outputs": [],
   "source": [
    "scv.pl.velocity_embedding(adata, arrow_length=3, arrow_size=2, dpi=120,color='leiden',legend_loc='right')"
   ]
  },
  {
   "cell_type": "markdown",
   "id": "indonesian-brooklyn",
   "metadata": {},
   "source": [
    "**Velocity confidence**"
   ]
  },
  {
   "cell_type": "code",
   "execution_count": null,
   "id": "crazy-nation",
   "metadata": {},
   "outputs": [],
   "source": [
    "scv.tl.velocity_confidence(adata)\n",
    "tags = 'velocity_length', 'velocity_confidence'\n",
    "scv.pl.scatter(adata, c=tags, cmap='coolwarm', perc=[2, 98])"
   ]
  },
  {
   "cell_type": "markdown",
   "id": "coral-surgery",
   "metadata": {},
   "source": [
    "**Cell cycle scores**"
   ]
  },
  {
   "cell_type": "code",
   "execution_count": null,
   "id": "secure-marking",
   "metadata": {},
   "outputs": [],
   "source": [
    "scv.pl.scatter(adata, color_gradients=['S_score', 'G2M_score'], smooth=True, perc=[5, 95])"
   ]
  },
  {
   "cell_type": "markdown",
   "id": "wireless-acting",
   "metadata": {},
   "source": [
    "**Pseudotime analysis**"
   ]
  },
  {
   "cell_type": "code",
   "execution_count": null,
   "id": "careful-judgment",
   "metadata": {
    "tags": []
   },
   "outputs": [],
   "source": [
    "scv.pl.velocity_graph(adata, threshold=.1)\n",
    "x, y = scv.utils.get_cell_transitions(adata, basis='umap', starting_cell=70)\n",
    "ax = scv.pl.velocity_graph(adata, c='lightgrey', edge_width=.05, show=False)\n",
    "ax = scv.pl.scatter(adata, x=x, y=y, s=120, c='ascending', cmap='gnuplot', ax=ax)"
   ]
  },
  {
   "cell_type": "markdown",
   "id": "fifteen-external",
   "metadata": {},
   "source": [
    "**Velocity graph**"
   ]
  },
  {
   "cell_type": "code",
   "execution_count": null,
   "id": "portuguese-probability",
   "metadata": {},
   "outputs": [],
   "source": [
    "scv.tl.velocity_pseudotime(adata)\n",
    "scv.pl.scatter(adata, color='velocity_pseudotime', cmap='gnuplot')"
   ]
  },
  {
   "cell_type": "markdown",
   "id": "aging-bristol",
   "metadata": {},
   "source": [
    "### Trajectory inference"
   ]
  },
  {
   "cell_type": "code",
   "execution_count": null,
   "id": "sapphire-borough",
   "metadata": {},
   "outputs": [],
   "source": [
    "adata.uns['neighbors']['distances'] = adata.obsp['distances']\n",
    "adata.uns['neighbors']['connectivities'] = adata.obsp['connectivities']\n",
    "\n",
    "scv.tl.paga(adata, groups='leiden')\n",
    "df = scv.get_df(adata, 'paga/transitions_confidence', precision=2).T\n",
    "df.style.background_gradient(cmap='Blues').format('{:.2g}')"
   ]
  },
  {
   "cell_type": "code",
   "execution_count": null,
   "id": "guilty-beast",
   "metadata": {},
   "outputs": [],
   "source": [
    "scv.pl.paga(adata, basis='umap', size=50, alpha=.1, min_edge_width=2, node_size_scale=1.5)"
   ]
  },
  {
   "cell_type": "markdown",
   "id": "informational-edwards",
   "metadata": {},
   "source": [
    "### Hands-on activity 3\n",
    "\n",
    "---\n",
    "\n",
    "1. How many genes have valid estimates of RNA velocity?\n",
    "2. What happens if you change the model to `deterministic`?"
   ]
  },
  {
   "cell_type": "code",
   "execution_count": null,
   "id": "optimum-mayor",
   "metadata": {},
   "outputs": [],
   "source": []
  }
 ],
 "metadata": {
  "kernelspec": {
   "display_name": "Python 3",
   "language": "python",
   "name": "python3"
  },
  "language_info": {
   "codemirror_mode": {
    "name": "ipython",
    "version": 3
   },
   "file_extension": ".py",
   "mimetype": "text/x-python",
   "name": "python",
   "nbconvert_exporter": "python",
   "pygments_lexer": "ipython3",
   "version": "3.8.8"
  }
 },
 "nbformat": 4,
 "nbformat_minor": 5
}
