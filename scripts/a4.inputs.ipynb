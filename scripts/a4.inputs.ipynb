{
 "cells": [
  {
   "cell_type": "markdown",
   "id": "1cda23e5",
   "metadata": {},
   "source": [
    "# Prepare innput matrices for RNA velocity analysis"
   ]
  },
  {
   "cell_type": "markdown",
   "id": "736d4e15",
   "metadata": {},
   "source": [
    "## For SmartSeq2 data\n",
    "\n",
    "We will work with the SmartSeq2 data downloaded from SRA on the first section. To get the spliced and unspliced count matrices for RNA velocity we will use the [velocyto CLI](https://velocyto.org/velocyto.py/tutorial/cli.html). Please note that this approach requires large ammounts on memory and it can take a long time tom run depending on the number of cells."
   ]
  },
  {
   "cell_type": "raw",
   "id": "65f2ac3b",
   "metadata": {},
   "source": [
    "#!/usr/bin/bash\n",
    "#SBATCH --cpus-per-task=40\n",
    "#SBATCH --mem=60gb\n",
    "#SBATCH --time=2-00:00:00\n",
    "#SBATCH --job-name=velocyto\n",
    "#SBATCH --err=logs/err.vel.%j.log\n",
    "#SBATCH --output=logs/out.vel.%j.log\n",
    "\n",
    "\n",
    "INBAM=../bams/SRP173479/${SRA}/\n",
    "OUTDIR=../output/velocyto\n",
    "GTF=../../references/gencode_GRCh38.p13/gencode.v37.primary_assembly.annotation.gtf\n",
    "\n",
    "mkdir -p ${OUTDIR}\n",
    "BAMS=$( find ${INBAM}/*/*bam -not -empty -ls | grep -o -e \"/project.*bam\" | cat )\n",
    "\n",
    "velocyto run-smartseq2 -o ${OUTDIR} -e SRP173479 $(echo $BAMS) ${GTF}"
   ]
  },
  {
   "cell_type": "markdown",
   "id": "ed01da91",
   "metadata": {},
   "source": [
    "## For 10x data\n",
    "\n",
    "10X data can also be analyzed with the command `run10x` from velocyto, but here we will demonstrate the approach using [Alevin](https://salmon.readthedocs.io/en/latest/alevin.html) since it is a more efficient tool and produces very similar results. The following example was inspired by their [tutorial to run RNA velocity using alevin's output](https://combine-lab.github.io/alevin-tutorial/2020/alevin-velocity/)\n",
    "."
   ]
  },
  {
   "cell_type": "markdown",
   "id": "61a09d17",
   "metadata": {},
   "source": [
    "### Build reference annotations for alevin"
   ]
  },
  {
   "cell_type": "raw",
   "id": "170e3eb4",
   "metadata": {},
   "source": [
    "#!/usr/bin/bash\n",
    "#SBATCH --cpus-per-task=10\n",
    "#SBATCH --mem=50gb\n",
    "#SBATCH --time=02:00:00\n",
    "#SBATCH --job-name=alevin\n",
    "#SBATCH --err=logs/err.alevin.%j.log\n",
    "#SBATCH --output=logs/out.alevin.%j.log\n",
    "\n",
    "\n",
    "module load StdEnv/2020  gcc/9.3.0  openmpi/4.0.3\n",
    "module load r/4.0.0 salmon/1.3.0\n",
    "\n",
    "\n",
    "REFPATH=../fastq/neurons5k/SC3_v3_NextGem_DI_Neurons_5K/SC3_v3_NextGem_DI_Neurons_5K_gex # Path to the directory containing the fastq files\n",
    "BCFILE=../cellranger/neurons5k/outs/raw_feature_bc_matrix/barcodes.tsv.gz # Path to the barcode file from cell ranger\n",
    "\n",
    "\n",
    "# Convert Gencode reference file to the format required by salmon\n",
    "\n",
    "Rscript ./build-alevin-ref.R ${REFPATH} generate\n",
    "\n",
    "# Get file with chromosome names\n",
    "\n",
    "grep \">\" ${REFPATH}/GRCm38.primary_assembly.genome.fa | cut -d \">\" -f 2 | cut -d \" \" -f 1 > ${REFPATH}/GRCm38.primary_assembly.genome.chrnames.txt\n",
    "\n",
    "# Create salmon index\n",
    "\n",
    "salmon index \\\n",
    "       -t <(cat ${REFPATH}/gencode.vM24.annotation.expanded.fa ${REFPATH}/GRCm38.primary_assembly.genome.fa) \\\n",
    "       -i ${REFPATH}/gencode.vM24.annotation.expanded.sidx --gencode -p 32 \\\n",
    "       -d ${REFPATH}/GRCm38.primary_assembly.genome.chrnames.txt\n",
    "\n",
    "# Create linked transcriptome with tximeta\n",
    "\n",
    "Rscript ./build-alevin-ref.R ${REFPATH} link"
   ]
  },
  {
   "cell_type": "markdown",
   "id": "1d5606c3",
   "metadata": {},
   "source": [
    "### Run alevin"
   ]
  },
  {
   "cell_type": "raw",
   "id": "a59f6d61",
   "metadata": {},
   "source": [
    "#!/usr/bin/bash\n",
    "#SBATCH --cpus-per-task=10\n",
    "#SBATCH --mem=80gb\n",
    "#SBATCH --time=05:00:00\n",
    "#SBATCH --job-name=alevin\n",
    "#SBATCH --err=logs/err.alevin.%j.log\n",
    "#SBATCH --output=logs/out.alevin.%j.log\n",
    "\n",
    "module load StdEnv/2020  gcc/9.3.0  openmpi/4.0.3\n",
    "module load r/4.0.0 salmon/1.3.0\n",
    "\n",
    "FASTQTAG=${REFPATH}/SC3_v3_NextGem_DI_Neurons_5K_gex_S3_L00\n",
    "\n",
    "salmon alevin \\\n",
    "    -l ISR \\\n",
    "    -i ${REFPATH}/gencode.vM24.annotation.expanded.sidx \\\n",
    "    -1 ${FASTQTAG}1_R1_001.fastq.gz ${FASTQTAG}2_R1_001.fastq.gz ${FASTQTAG}3_R1_001.fastq.gz ${FASTQTAG}4_R1_001.fastq.gz \\\n",
    "    -2 ${FASTQTAG}1_R2_001.fastq.gz ${FASTQTAG}2_R2_001.fastq.gz ${FASTQTAG}3_R2_001.fastq.gz ${FASTQTAG}4_R2_001.fastq.gz \\\n",
    "    -o ../output/alevin_${SLURM_ARRAY_TASK_ID} \\\n",
    "    -p 10 \\\n",
    "    --tgMap ${REFPATH}/gencode.vM24.annotation.expanded.tx2gene.tsv \\\n",
    "    --chromiumV3 \\\n",
    "    --dumpFeatures \\\n",
    "    --whitelist ${BCFILE}"
   ]
  }
 ],
 "metadata": {
  "kernelspec": {
   "display_name": "Python 3",
   "language": "python",
   "name": "python3"
  },
  "language_info": {
   "codemirror_mode": {
    "name": "ipython",
    "version": 3
   },
   "file_extension": ".py",
   "mimetype": "text/x-python",
   "name": "python",
   "nbconvert_exporter": "python",
   "pygments_lexer": "ipython3",
   "version": "3.7.10"
  }
 },
 "nbformat": 4,
 "nbformat_minor": 5
}
