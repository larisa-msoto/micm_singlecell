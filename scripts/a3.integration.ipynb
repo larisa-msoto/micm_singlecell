{
 "cells": [
  {
   "cell_type": "markdown",
   "id": "alike-spanking",
   "metadata": {},
   "source": [
    "# Dataset integration \n",
    "\n",
    "We will integrate the Neurons 5k dataset with a subset of 5K cells from the larger 10X dataset [1.3 million brain cells from E18 mouse](https://support.10xgenomics.com/single-cell-gene-expression/datasets/1.3.0/1M_neurons). "
   ]
  },
  {
   "cell_type": "code",
   "execution_count": 1,
   "id": "elect-correlation",
   "metadata": {
    "tags": []
   },
   "outputs": [],
   "source": [
    "suppressPackageStartupMessages({\n",
    "library(dplyr)\n",
    "library(patchwork)\n",
    "library(Seurat)\n",
    "library(SummarizedExperiment)\n",
    "library(TENxBrainData)})"
   ]
  },
  {
   "cell_type": "markdown",
   "id": "small-alert",
   "metadata": {},
   "source": [
    "## Load data"
   ]
  },
  {
   "cell_type": "raw",
   "id": "white-father",
   "metadata": {},
   "source": [
    "# Reference dataset download - no need to run this during the workshop\n",
    "\n",
    "ref<-TENxBrainData20k()\n",
    "save(ref,file='../data/objects/a3.reference.RData')\n",
    "load(file='../data/objects/a3.reference.RData')\n",
    "counts<-counts(ref)\n",
    "colnames(counts)<-colData(ref)$Barcode\n",
    "rownames(counts)<-rowData(ref)$Symbol\n",
    "counts<-counts[,sample(1:20000,5000)]\n",
    "\n",
    "# Create seurat object\n",
    "ref.sobj <- CreateSeuratObject(counts, project = 'reference', assay = 'RNA')\n",
    "counts<-counts(ref)\n",
    "colnames(counts)<-colData(ref)$Barcode\n",
    "rownames(counts)<-rowData(ref)$Symbol\n",
    "counts<-counts[,sample(1:20000,5000)]\n",
    "ref.sobj <- CreateSeuratObject(counts, project = 'reference', assay = 'RNA')\n",
    "\n",
    "# Preprocessing stepts\n",
    "ref.sobj[[\"percent.mt\"]] <- PercentageFeatureSet(ref.sobj, pattern = \"^mt-\")\n",
    "ref.sobj <- subset(ref.sobj, subset = nFeature_RNA > 200 & nFeature_RNA < 7000 & percent.mt < 20 & nCount_RNA<25000)\n",
    "ref.sobj <- SCTransform(ref.sobj, vars.to.regress = \"percent.mt\",variable.features.n = 2000,verbose = FALSE)\n",
    "\n",
    "save(ref.sobj,file='../data/objects/a3.refseurat.RData')"
   ]
  },
  {
   "cell_type": "code",
   "execution_count": 2,
   "id": "cultural-costa",
   "metadata": {},
   "outputs": [
    {
     "name": "stdout",
     "output_type": "stream",
     "text": [
      "Loading objects:\n",
      "  ref.sobj\n"
     ]
    }
   ],
   "source": [
    "load(file='../data/objects/a3.refseurat.RData',verbose = TRUE)\n",
    "ref.sobj[[\"Dataset\"]]<-'nr1M'"
   ]
  },
  {
   "cell_type": "code",
   "execution_count": 3,
   "id": "blank-plate",
   "metadata": {},
   "outputs": [
    {
     "name": "stdout",
     "output_type": "stream",
     "text": [
      "Loading objects:\n",
      "  nr5k\n",
      "  ct\n"
     ]
    }
   ],
   "source": [
    "load(file=\"../data/objects/a2.neur5k.RData\",verbose = TRUE)\n",
    "nr5k[['Dataset']]<-'nr5k'"
   ]
  },
  {
   "cell_type": "markdown",
   "id": "pacific-framework",
   "metadata": {},
   "source": [
    "## Prepare integration"
   ]
  },
  {
   "cell_type": "code",
   "execution_count": 5,
   "id": "radical-convenience",
   "metadata": {},
   "outputs": [],
   "source": [
    "options(future.globals.maxSize = 4000 * 1024^2, future.seed=NULL, warnings=FALSE)\n",
    "\n",
    "objects <- list(nr5k,ref.sobj)\n",
    "features <- SelectIntegrationFeatures(object.list = objects, nfeatures = 1000)\n",
    "objects <- PrepSCTIntegration(object.list = objects, anchor.features = features, verbose = FALSE)"
   ]
  },
  {
   "cell_type": "markdown",
   "id": "improved-retrieval",
   "metadata": {},
   "source": [
    "## Integrate datasets"
   ]
  },
  {
   "cell_type": "code",
   "execution_count": 6,
   "id": "loving-affair",
   "metadata": {
    "tags": []
   },
   "outputs": [
    {
     "name": "stderr",
     "output_type": "stream",
     "text": [
      "Warning message:\n",
      "“UNRELIABLE VALUE: Future (‘future_lapply-1’) unexpectedly generated random numbers without specifying argument 'future.seed'. There is a risk that those random numbers are not statistically sound and the overall results might be invalid. To fix this, specify 'future.seed=TRUE'. This ensures that proper, parallel-safe random numbers are produced via the L'Ecuyer-CMRG method. To disable this check, use 'future.seed=NULL', or set option 'future.rng.onMisuse' to \"ignore\".”\n"
     ]
    }
   ],
   "source": [
    "anchors <- FindIntegrationAnchors(object.list = objects, normalization.method = \"SCT\", anchor.features = features, verbose = FALSE)\n",
    "nr.int <- IntegrateData(anchorset = anchors, normalization.method = \"SCT\", verbose = FALSE)"
   ]
  },
  {
   "cell_type": "code",
   "execution_count": 7,
   "id": "smoking-paper",
   "metadata": {},
   "outputs": [],
   "source": [
    "save(nr.int,file='../data/objects/a3.integrated.RData')"
   ]
  },
  {
   "cell_type": "markdown",
   "id": "technological-turner",
   "metadata": {},
   "source": [
    "## Downstream analysis\n",
    "\n",
    "### Hands-on activity 2\n",
    "\n",
    "---\n",
    "\n",
    "Perform the downstream analysis steps that we did on the previous section for the Neurons 5K dataset\n",
    "1. Dimensionality reduction \n",
    "2. Clustering\n",
    "3. Cell type annotation \n",
    "\n",
    "Could you find more cell types?"
   ]
  },
  {
   "cell_type": "markdown",
   "id": "conditional-biology",
   "metadata": {},
   "source": [
    "If you do not have the output from the previous sections, just load the following RData object:"
   ]
  },
  {
   "cell_type": "code",
   "execution_count": null,
   "id": "excessive-smoke",
   "metadata": {},
   "outputs": [],
   "source": [
    "load(file='../data/objects/a3.integrated.RData',verbose=TRUE)"
   ]
  },
  {
   "cell_type": "markdown",
   "id": "demonstrated-testing",
   "metadata": {},
   "source": [
    "#### Dimensionality reduction and clustering"
   ]
  },
  {
   "cell_type": "code",
   "execution_count": 8,
   "id": "latter-jamaica",
   "metadata": {
    "tags": []
   },
   "outputs": [
    {
     "name": "stderr",
     "output_type": "stream",
     "text": [
      "Warning message:\n",
      "“The default method for RunUMAP has changed from calling Python UMAP via reticulate to the R-native UWOT using the cosine metric\n",
      "To use Python UMAP via reticulate, set umap.method to 'umap-learn' and metric to 'correlation'\n",
      "This message will be shown once per session”\n"
     ]
    }
   ],
   "source": [
    "nr.int <- RunPCA(nr.int, verbose = FALSE)\n",
    "nr.int <- RunUMAP(nr.int, dims = 1:30, verbose = FALSE,spread = 1,min.dist = 1)"
   ]
  },
  {
   "cell_type": "code",
   "execution_count": null,
   "id": "valid-therapist",
   "metadata": {},
   "outputs": [],
   "source": [
    "markers <- FindAllMarkers(nr5k, only.pos = TRUE, min.pct = 0.25, logfc.threshold = 1) %>% \n",
    "                group_by(cluster) %>% \n",
    "                top_n(n = 10, wt = avg_log2FC) "
   ]
  },
  {
   "cell_type": "code",
   "execution_count": null,
   "id": "described-reconstruction",
   "metadata": {},
   "outputs": [],
   "source": [
    "map<-tapply(markers$gene,markers$cluster,function(mlist,...){\n",
    "    gcts<-lapply(mlist,function(m,...){ct[grep(m,ct$MarkerGenes),'Subclass']}) %>% \n",
    "          unlist() %>% \n",
    "          table() %>% \n",
    "          sort()\n",
    "    return(ifelse(length(gcts)==0,'Undefined',names(gcts)[1]))\n",
    "}) %>% \n",
    "unlist()"
   ]
  },
  {
   "cell_type": "code",
   "execution_count": null,
   "id": "growing-recognition",
   "metadata": {},
   "outputs": [],
   "source": [
    "nr5k <- RenameIdents(nr5k, map)"
   ]
  },
  {
   "cell_type": "code",
   "execution_count": null,
   "id": "other-worship",
   "metadata": {
    "tags": []
   },
   "outputs": [],
   "source": [
    "options(repr.plot.width=15, repr.plot.height=7)\n",
    "DimPlot(nr.int, group.by = c(\"Dataset\"), combine = FALSE)"
   ]
  }
 ],
 "metadata": {
  "kernelspec": {
   "display_name": "R",
   "language": "R",
   "name": "ir"
  },
  "language_info": {
   "codemirror_mode": "r",
   "file_extension": ".r",
   "mimetype": "text/x-r-source",
   "name": "R",
   "pygments_lexer": "r",
   "version": "4.0.3"
  },
  "toc-autonumbering": true
 },
 "nbformat": 4,
 "nbformat_minor": 5
}
