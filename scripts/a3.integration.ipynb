{
 "cells": [
  {
   "cell_type": "markdown",
   "id": "moral-orlando",
   "metadata": {},
   "source": [
    "# Dataset integration \n",
    "\n",
    "We will integrate the Neurons 5k dataset with a subset of 5K cells from the larger 10X dataset [1.3 million brain cells from E18 mouse](https://support.10xgenomics.com/single-cell-gene-expression/datasets/1.3.0/1M_neurons). "
   ]
  },
  {
   "cell_type": "code",
   "execution_count": null,
   "id": "geological-warrant",
   "metadata": {
    "tags": []
   },
   "outputs": [],
   "source": [
    "suppressPackageStartupMessages({\n",
    "library(dplyr)\n",
    "library(patchwork)\n",
    "library(Seurat)\n",
    "library(SummarizedExperiment)\n",
    "library(TENxBrainData)})"
   ]
  },
  {
   "cell_type": "markdown",
   "id": "smaller-newcastle",
   "metadata": {},
   "source": [
    "## Load data"
   ]
  },
  {
   "cell_type": "markdown",
   "id": "satisfied-english",
   "metadata": {},
   "source": [
    "### Pre-processing of the reference data\n",
    "\n",
    "No need to run this during the workshop, just load the objects"
   ]
  },
  {
   "cell_type": "raw",
   "id": "fiscal-northern",
   "metadata": {},
   "source": [
    "# Reference dataset download - no need to run this during the workshop\n",
    "\n",
    "ref<-TENxBrainData20k()\n",
    "save(ref,file='../data/objects/a3.reference.RData')\n",
    "load(file='../data/objects/a3.reference.RData')\n",
    "counts<-counts(ref)\n",
    "colnames(counts)<-colData(ref)$Barcode\n",
    "rownames(counts)<-rowData(ref)$Symbol\n",
    "counts<-counts[,sample(1:20000,5000)]\n",
    "\n",
    "# Create seurat object\n",
    "ref.sobj <- CreateSeuratObject(counts, project = 'reference', assay = 'RNA')\n",
    "counts<-counts(ref)\n",
    "colnames(counts)<-colData(ref)$Barcode\n",
    "rownames(counts)<-rowData(ref)$Symbol\n",
    "counts<-counts[,sample(1:20000,5000)]\n",
    "ref.sobj <- CreateSeuratObject(counts, project = 'reference', assay = 'RNA')\n",
    "\n",
    "# Preprocessing stepts\n",
    "ref.sobj[[\"percent.mt\"]] <- PercentageFeatureSet(ref.sobj, pattern = \"^mt-\")\n",
    "ref.sobj <- subset(ref.sobj, subset = nFeature_RNA > 200 & nFeature_RNA < 7000 & percent.mt < 20 & nCount_RNA<25000)\n",
    "ref.sobj <- SCTransform(ref.sobj, vars.to.regress = \"percent.mt\",variable.features.n = 2000,verbose = FALSE)\n",
    "\n",
    "save(ref.sobj,file='../data/objects/a3.refseurat.RData')"
   ]
  },
  {
   "cell_type": "code",
   "execution_count": null,
   "id": "lesbian-kazakhstan",
   "metadata": {},
   "outputs": [],
   "source": [
    "load(file='../data/objects/a3.refseurat.RData',verbose = TRUE)\n",
    "ref.sobj[[\"Dataset\"]]<-'nr1M'"
   ]
  },
  {
   "cell_type": "code",
   "execution_count": null,
   "id": "choice-bhutan",
   "metadata": {},
   "outputs": [],
   "source": [
    "load(file=\"../data/objects/a2.neur5k.RData\",verbose = TRUE)\n",
    "nr5k[['Dataset']]<-'nr5k'"
   ]
  },
  {
   "cell_type": "markdown",
   "id": "chubby-bermuda",
   "metadata": {},
   "source": [
    "## Integrate datasets"
   ]
  },
  {
   "cell_type": "code",
   "execution_count": null,
   "id": "special-prison",
   "metadata": {
    "tags": []
   },
   "outputs": [],
   "source": [
    "options(future.globals.maxSize = 4000 * 1024^2, future.seed=NULL, warnings=FALSE)\n",
    "\n",
    "objects <- list(nr5k,ref.sobj)\n",
    "features <- SelectIntegrationFeatures(object.list = objects, nfeatures = 1000)\n",
    "objects <- PrepSCTIntegration(object.list = objects, anchor.features = features, verbose = FALSE)\n",
    "\n",
    "anchors <- FindIntegrationAnchors(object.list = objects, normalization.method = \"SCT\", anchor.features = features, verbose = FALSE)\n",
    "nr.int <- IntegrateData(anchorset = anchors, normalization.method = \"SCT\", verbose = FALSE)\n",
    "\n",
    "save(nr.int,file='../data/objects/a3.integrated.RData')"
   ]
  },
  {
   "cell_type": "code",
   "execution_count": null,
   "id": "ecological-declaration",
   "metadata": {},
   "outputs": [],
   "source": [
    "load(file='../data/objects/a3.integrated.RData',verbose=TRUE)"
   ]
  },
  {
   "cell_type": "markdown",
   "id": "entertaining-sentence",
   "metadata": {},
   "source": [
    "## Downstream analysis\n",
    "\n",
    "### Hands-on activity 2\n",
    "\n",
    "---\n",
    "\n",
    "Perform the downstream analysis steps that we did on the previous section for the Neurons 5K dataset\n",
    "1. Dimensionality reduction \n",
    "2. Clustering\n",
    "3. Cell type annotation \n",
    "\n",
    "Could you find more cell types?"
   ]
  },
  {
   "cell_type": "markdown",
   "id": "played-conversion",
   "metadata": {},
   "source": [
    "If you do not have the output from the previous sections, just load the following RData object:"
   ]
  },
  {
   "cell_type": "code",
   "execution_count": null,
   "id": "fifth-maryland",
   "metadata": {},
   "outputs": [],
   "source": [
    "load(file='../data/objects/a3.integrated.RData',verbose=TRUE)"
   ]
  }
 ],
 "metadata": {
  "kernelspec": {
   "display_name": "R",
   "language": "R",
   "name": "ir"
  },
  "language_info": {
   "codemirror_mode": "r",
   "file_extension": ".r",
   "mimetype": "text/x-r-source",
   "name": "R",
   "pygments_lexer": "r",
   "version": "4.0.3"
  },
  "toc-autonumbering": true
 },
 "nbformat": 4,
 "nbformat_minor": 5
}
